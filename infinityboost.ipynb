{
 "cells": [
  {
   "cell_type": "code",
   "execution_count": 2,
   "metadata": {
    "collapsed": true
   },
   "outputs": [],
   "source": [
    "import simplejson as json\n",
    "import pandas as pd\n",
    "from pandas import DataFrame\n",
    "import numpy as nm\n",
    "#import csv as csv#\n",
    "# def infinityboost (filename):\n",
    "    # df = pd.read_csv(filename)\n",
    "    # df.sort_values(['Sales'], ascending=[False])\n",
    "    # DataFrame.head(df)\n",
    "    # return df\n",
    "#import as .json\n",
    "#export as .json"
   ]
  },
  {
   "cell_type": "code",
   "execution_count": 10,
   "metadata": {},
   "outputs": [
    {
     "name": "stdout",
     "output_type": "stream",
     "text": [
      "   MAC  PC  PHONE  SALES_ID  SALE_TOTAL  TV\n",
      "4    0   0      3         5         760   2\n",
      "3    4   0      3         4         460   2\n",
      "2    0   1      3         3         260   2\n",
      "5    0   0      3         6         260   5\n",
      "1    0   0      3         2         160   2\n"
     ]
    }
   ],
   "source": [
    "#filename = \"C:/Users/mylan/AnacondaProjects/infinityboost/train.csv\"\n",
    "#filename = \"C:/Users/mylan/AnacondaProjects/USB Banking APIs.postman_test_run.json\"\n",
    "filename = \"C:/Users/mylan/AnacondaProjects/infinityboost/salestest1.json\"\n",
    "#df = pd.read_csv(filename)\n",
    "#df= pd.read_json(filename, lines = True)\n",
    "df1 = pd.read_json(filename)\n",
    "df1 = df1.sort_values(['SALE_TOTAL'], ascending=[False])\n",
    "print(DataFrame.head(df1))\n",
    "df2 = df1.to_json(\"sortedsales.json\",orient='records')"
   ]
  },
  {
   "cell_type": "code",
   "execution_count": null,
   "metadata": {},
   "outputs": [],
   "source": [
    "# infinityboost(\"C:/Users/mylan/AnacondaProjects/infinityboost/train.csv\")"
   ]
  },
  {
   "cell_type": "code",
   "execution_count": null,
   "metadata": {},
   "outputs": [],
   "source": [
    "filename = \"C:/Users/mylan/AnacondaProjects/world_bank/world_bank.json\""
   ]
  },
  {
   "cell_type": "code",
   "execution_count": 16,
   "metadata": {},
   "outputs": [
    {
     "data": {
      "text/html": [
       "<div>\n",
       "<style>\n",
       "    .dataframe thead tr:only-child th {\n",
       "        text-align: right;\n",
       "    }\n",
       "\n",
       "    .dataframe thead th {\n",
       "        text-align: left;\n",
       "    }\n",
       "\n",
       "    .dataframe tbody tr th {\n",
       "        vertical-align: top;\n",
       "    }\n",
       "</style>\n",
       "<table border=\"1\" class=\"dataframe\">\n",
       "  <thead>\n",
       "    <tr style=\"text-align: right;\">\n",
       "      <th></th>\n",
       "      <th>Offers</th>\n",
       "      <th>ReturnedResults</th>\n",
       "      <th>StartIndex</th>\n",
       "      <th>TotalFoundResults</th>\n",
       "    </tr>\n",
       "  </thead>\n",
       "  <tbody>\n",
       "    <tr>\n",
       "      <th>0</th>\n",
       "      <td>{'indexNumber': 1, 'offerContentId': 105511, '...</td>\n",
       "      <td>8</td>\n",
       "      <td>1</td>\n",
       "      <td>8</td>\n",
       "    </tr>\n",
       "    <tr>\n",
       "      <th>1</th>\n",
       "      <td>{'indexNumber': 2, 'offerContentId': 105512, '...</td>\n",
       "      <td>8</td>\n",
       "      <td>1</td>\n",
       "      <td>8</td>\n",
       "    </tr>\n",
       "    <tr>\n",
       "      <th>2</th>\n",
       "      <td>{'indexNumber': 3, 'offerContentId': 105513, '...</td>\n",
       "      <td>8</td>\n",
       "      <td>1</td>\n",
       "      <td>8</td>\n",
       "    </tr>\n",
       "    <tr>\n",
       "      <th>3</th>\n",
       "      <td>{'indexNumber': 4, 'offerContentId': 105514, '...</td>\n",
       "      <td>8</td>\n",
       "      <td>1</td>\n",
       "      <td>8</td>\n",
       "    </tr>\n",
       "    <tr>\n",
       "      <th>4</th>\n",
       "      <td>{'indexNumber': 5, 'offerContentId': 105515, '...</td>\n",
       "      <td>8</td>\n",
       "      <td>1</td>\n",
       "      <td>8</td>\n",
       "    </tr>\n",
       "  </tbody>\n",
       "</table>\n",
       "</div>"
      ],
      "text/plain": [
       "                                              Offers  ReturnedResults  \\\n",
       "0  {'indexNumber': 1, 'offerContentId': 105511, '...                8   \n",
       "1  {'indexNumber': 2, 'offerContentId': 105512, '...                8   \n",
       "2  {'indexNumber': 3, 'offerContentId': 105513, '...                8   \n",
       "3  {'indexNumber': 4, 'offerContentId': 105514, '...                8   \n",
       "4  {'indexNumber': 5, 'offerContentId': 105515, '...                8   \n",
       "\n",
       "   StartIndex  TotalFoundResults  \n",
       "0           1                  8  \n",
       "1           1                  8  \n",
       "2           1                  8  \n",
       "3           1                  8  \n",
       "4           1                  8  "
      ]
     },
     "execution_count": 16,
     "metadata": {},
     "output_type": "execute_result"
    }
   ],
   "source": [
    "df = pd.read_json(\"C:/Users/mylan/AnacondaProjects/app.json\")\n",
    "DataFrame.head(df)"
   ]
  },
  {
   "cell_type": "code",
   "execution_count": null,
   "metadata": {
    "collapsed": true
   },
   "outputs": [],
   "source": []
  }
 ],
 "metadata": {
  "kernelspec": {
   "display_name": "Python 3",
   "language": "python",
   "name": "python3"
  },
  "language_info": {
   "codemirror_mode": {
    "name": "ipython",
    "version": 3
   },
   "file_extension": ".py",
   "mimetype": "text/x-python",
   "name": "python",
   "nbconvert_exporter": "python",
   "pygments_lexer": "ipython3",
   "version": "3.6.1"
  }
 },
 "nbformat": 4,
 "nbformat_minor": 2
}
